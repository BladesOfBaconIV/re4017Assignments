{
 "cells": [
  {
   "cell_type": "code",
   "execution_count": 1,
   "metadata": {},
   "outputs": [],
   "source": [
    "import numpy as np"
   ]
  },
  {
   "cell_type": "code",
   "execution_count": 2,
   "metadata": {},
   "outputs": [],
   "source": [
    "image = np.array(([9,9,9,9,9,9],\n",
    "                  [9,2,2,2,2,9],\n",
    "                  [9,2,1,2,2,9],\n",
    "                  [9,2,2,1,2,9],\n",
    "                  [9,2,2,2,2,9],\n",
    "                  [9,9,9,9,9,9]))"
   ]
  },
  {
   "cell_type": "code",
   "execution_count": 3,
   "metadata": {},
   "outputs": [
    {
     "name": "stdout",
     "output_type": "stream",
     "text": [
      "[ 0.  2. 14.  0.  0.  0.  0.  0.  0. 20.]\n",
      "[[9 9 9 9 9 9]\n",
      " [9 4 4 4 4 9]\n",
      " [9 4 0 4 4 9]\n",
      " [9 4 4 0 4 9]\n",
      " [9 4 4 4 4 9]\n",
      " [9 9 9 9 9 9]]\n",
      "[ 0.  2. 16. 16. 16. 16. 16. 16. 16. 36.]\n",
      "\n",
      "\n",
      "The solution is:\n",
      "[ 2.  0.  0.  0. 14.  0.  0.  0.  0. 20.]\n"
     ]
    }
   ],
   "source": [
    "bins  = 10\n",
    "\n",
    "size = image.shape[0]*image.shape[1]\n",
    "\n",
    "hist = np.zeros(bins)\n",
    "for v in image.ravel(): hist[v] += 1\n",
    "print(hist)\n",
    "AccH = np.zeros(bins)\n",
    "sum = 0\n",
    "for i in range(hist.shape[0]):\n",
    "    sum = hist[i] + sum\n",
    "    AccH[i] = sum\n",
    "\n",
    "Eqimage = np.zeros([image.shape[0],image.shape[1]]).astype(int)\n",
    "for i in range(image.shape[0]):\n",
    "    for j in range(image.shape[1]):\n",
    "        Eqimage[i][j] = int(AccH[image[i][j]]*(bins-1)/size)\n",
    "print(Eqimage)\n",
    "print(AccH)\n",
    "\n",
    "hist2 = np.zeros(bins)\n",
    "for v in Eqimage.ravel(): hist2[v] += 1\n",
    "print(\"\\n\\nThe solution is:\")\n",
    "print(hist2)"
   ]
  }
 ],
 "metadata": {
  "kernelspec": {
   "display_name": "Python 3",
   "language": "python",
   "name": "python3"
  },
  "language_info": {
   "codemirror_mode": {
    "name": "ipython",
    "version": 3
   },
   "file_extension": ".py",
   "mimetype": "text/x-python",
   "name": "python",
   "nbconvert_exporter": "python",
   "pygments_lexer": "ipython3",
   "version": "3.7.6"
  }
 },
 "nbformat": 4,
 "nbformat_minor": 4
}
