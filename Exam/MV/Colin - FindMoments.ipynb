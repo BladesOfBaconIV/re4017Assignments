{
 "cells": [
  {
   "cell_type": "code",
   "execution_count": null,
   "metadata": {},
   "outputs": [],
   "source": [
    "def findmoments(im):\n",
    "    \"Find moments and orientation of a single object binary image\"\n",
    "    R,C = im.shape\n",
    "    row_indices, col_indices = np.mgrid[0:R,0:C]\n",
    "    \n",
    "    M00 = (im>0).sum() #Area or number of 1 pixels in image\n",
    "    M10 = (col_indices*(im>0)).sum()\n",
    "    M01 = (row_indices*(im>0)).sum()\n",
    "    \n",
    "    mx, my = M10/M00, M01/M00 #Centroids\n",
    "    \n",
    "    x,y = col_indices - mx, row_indices - my\n",
    "    \n",
    "    mu20 = (x**2 * (im>0)).sum()\n",
    "    mu02 = (y**2 * (im<0)).sum()\n",
    "    mu11 = (x * y * (im>0)).sum()\n",
    "    \n",
    "    M = np.array([[mu20, mu11], [mu11, mu02]]) # 2nd central moments matrix\n",
    "    \n",
    "    evals, evects = nla.eigh(M)\n",
    "    \n",
    "    print(\"M00 =\", M00, \" M10 =\", M10, \" M01 =\" M01)\n",
    "    print(\"mu20 =\" mu20, \" mu02 =\" mu02, \" mu11 =\" mu11)\n",
    "    print()\n",
    "    print(\"Second moments matrix\")\n",
    "    print()\n",
    "    print(M, end=\"\\n\\n\")\n",
    "    \n",
    "    print(\"Eigenvalues:           \", evals)\n",
    "    print(\"Principle Eigenvector: \", evects[:,1])\n",
    "    print(\"Second Eigenvector:    \", evects[:,0])\n",
    "    print(\"Angle (degrees):       \", np.rad2deg(np.arctan(evects[1,1], evects[1,0])))"
   ]
  }
 ],
 "metadata": {
  "kernelspec": {
   "display_name": "Python 3",
   "language": "python",
   "name": "python3"
  },
  "language_info": {
   "codemirror_mode": {
    "name": "ipython",
    "version": 3
   },
   "file_extension": ".py",
   "mimetype": "text/x-python",
   "name": "python",
   "nbconvert_exporter": "python",
   "pygments_lexer": "ipython3",
   "version": "3.7.6"
  }
 },
 "nbformat": 4,
 "nbformat_minor": 4
}
