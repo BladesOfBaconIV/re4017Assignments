{
 "cells": [
  {
   "cell_type": "code",
   "execution_count": null,
   "metadata": {},
   "outputs": [],
   "source": [
    "import numpy as np"
   ]
  },
  {
   "cell_type": "code",
   "execution_count": null,
   "metadata": {},
   "outputs": [],
   "source": [
    "im = "
   ]
  },
  {
   "cell_type": "code",
   "execution_count": null,
   "metadata": {},
   "outputs": [],
   "source": [
    "def binned_histogram(im, bins=32):\n",
    "    \"Binned histogram for 8-bit greyscale images.\"\n",
    "    assert im.dtype == 'uint8' and bins >0 and bins <= 256\n",
    "    binwidth = 256.0/bins\n",
    "    hist = npzeros(bins,dtype='uint32')\n",
    "    \n",
    "    for v in im.ravel(): hist[int(v/binwidth)] += 1\n",
    "    \n",
    "    return hist"
   ]
  }
 ],
 "metadata": {
  "kernelspec": {
   "display_name": "Python 3",
   "language": "python",
   "name": "python3"
  },
  "language_info": {
   "codemirror_mode": {
    "name": "ipython",
    "version": 3
   },
   "file_extension": ".py",
   "mimetype": "text/x-python",
   "name": "python",
   "nbconvert_exporter": "python",
   "pygments_lexer": "ipython3",
   "version": "3.7.6"
  }
 },
 "nbformat": 4,
 "nbformat_minor": 4
}
