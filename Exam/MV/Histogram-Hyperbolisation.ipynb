{
 "cells": [
  {
   "cell_type": "code",
   "execution_count": 1,
   "metadata": {},
   "outputs": [],
   "source": [
    "import numpy as np\n",
    "import numpy.linalg as nla\n",
    "import matplotlib.pyplot as plt\n",
    "import scipy.ndimage.filters as filters\n",
    "from scipy.ndimage import rotate\n",
    "from fractions import Fraction\n",
    "import math"
   ]
  },
  {
   "cell_type": "code",
   "execution_count": null,
   "metadata": {},
   "outputs": [],
   "source": [
    "im = np.array(([0,0,0,0,0,0],\n",
    "                  [0,0,0,0,0,0],\n",
    "                  [0,0,0,9,0,0],\n",
    "                  [0,0,0,0,0,0],\n",
    "                  [0,0,0,0,0,0],\n",
    "                  [0,0,0,0,0,0]))"
   ]
  },
  {
   "cell_type": "code",
   "execution_count": 6,
   "metadata": {},
   "outputs": [
    {
     "name": "stdout",
     "output_type": "stream",
     "text": [
      "Histogram of hyperbolised image.\n"
     ]
    },
    {
     "name": "stderr",
     "output_type": "stream",
     "text": [
      "C:\\Users\\darra\\Anaconda3\\envs\\FYP_gpu\\lib\\site-packages\\ipykernel_launcher.py:25: RuntimeWarning: divide by zero encountered in log\n"
     ]
    },
    {
     "ename": "ValueError",
     "evalue": "'list' argument must have no negative elements",
     "output_type": "error",
     "traceback": [
      "\u001b[1;31m---------------------------------------------------------------------------\u001b[0m",
      "\u001b[1;31mValueError\u001b[0m                                Traceback (most recent call last)",
      "\u001b[1;32m<ipython-input-6-a13d08d4f078>\u001b[0m in \u001b[0;36m<module>\u001b[1;34m\u001b[0m\n\u001b[0;32m     28\u001b[0m \u001b[1;33m\u001b[0m\u001b[0m\n\u001b[0;32m     29\u001b[0m \u001b[0mprint\u001b[0m\u001b[1;33m(\u001b[0m\u001b[1;34m\"Histogram of hyperbolised image.\"\u001b[0m\u001b[1;33m)\u001b[0m\u001b[1;33m\u001b[0m\u001b[1;33m\u001b[0m\u001b[0m\n\u001b[1;32m---> 30\u001b[1;33m \u001b[0mprint\u001b[0m\u001b[1;33m(\u001b[0m\u001b[0mnp\u001b[0m\u001b[1;33m.\u001b[0m\u001b[0mbincount\u001b[0m\u001b[1;33m(\u001b[0m\u001b[0mHisHyper\u001b[0m\u001b[1;33m(\u001b[0m\u001b[0mim\u001b[0m\u001b[1;33m)\u001b[0m\u001b[1;33m.\u001b[0m\u001b[0mravel\u001b[0m\u001b[1;33m(\u001b[0m\u001b[1;33m)\u001b[0m\u001b[1;33m,\u001b[0m\u001b[0mminlength\u001b[0m\u001b[1;33m=\u001b[0m\u001b[0mk\u001b[0m\u001b[1;33m)\u001b[0m\u001b[1;33m)\u001b[0m\u001b[1;33m\u001b[0m\u001b[1;33m\u001b[0m\u001b[0m\n\u001b[0m",
      "\u001b[1;32m<__array_function__ internals>\u001b[0m in \u001b[0;36mbincount\u001b[1;34m(*args, **kwargs)\u001b[0m\n",
      "\u001b[1;31mValueError\u001b[0m: 'list' argument must have no negative elements"
     ]
    }
   ],
   "source": [
    "im = np.array([[1 , 2 , 3 , 4 , 5 ],\n",
    "                [6 , 7 , 8 , 9 , 3 ],\n",
    "                [11, 22, 34, 58, 54],\n",
    "                [78, 44, 12, 44, 65],\n",
    "                [8 , 44, 12, 44, 65],\n",
    "                [32, 14, 32, 44, 75],\n",
    "                [56, 44, 62, 54, 95]]);\n",
    "\n",
    "b = 1.1\n",
    "levels = im.max()+1\n",
    "R,C = im.shape\n",
    "k = levels\n",
    "\n",
    "\n",
    "def HisHyper(PS):\n",
    "    \n",
    "    hist = np.bincount(im.ravel(), minlength=k)\n",
    "                  \n",
    "    \"PS is the cumulative density function of the original image\"\n",
    "    #PS = np.cumsum(im)\n",
    "    #       or\n",
    "    PS = np.cumsum(hist)\n",
    "\n",
    "    \n",
    "    r = np.floor(- np.log(1-(1-np.exp(-b)*PS))/b).astype('int')\n",
    "    \n",
    "    return r\n",
    "\n",
    "print(\"Histogram of hyperbolised image.\")\n",
    "print(np.bincount(HisHyper(im).ravel(),minlength=k))"
   ]
  },
  {
   "cell_type": "code",
   "execution_count": null,
   "metadata": {},
   "outputs": [],
   "source": [
    "bins  = 10\n",
    "\n",
    "size = image.shape[0]*image.shape[1]\n",
    "\n",
    "hist = np.zeros(bins)\n",
    "for v in image.ravel(): hist[v] += 1\n",
    "print(hist)\n",
    "AccH = np.zeros(bins)\n",
    "sum = 0\n",
    "for i in range(hist.shape[0]):\n",
    "    sum = hist[i] + sum\n",
    "    AccH[i] = sum\n",
    "\n",
    "Eqimage = np.zeros([image.shape[0],image.shape[1]]).astype(int)\n",
    "for i in range(image.shape[0]):\n",
    "    for j in range(image.shape[1]):\n",
    "        Eqimage[i][j] = int(AccH[image[i][j]]*(bins-1)/size)\n",
    "print(Eqimage)\n",
    "print(AccH)\n",
    "\n",
    "hist2 = np.zeros(bins)\n",
    "for v in Eqimage.ravel(): hist2[v] += 1\n",
    "print(\"\\n\\nThe solution is:\")\n",
    "print(hist2)"
   ]
  }
 ],
 "metadata": {
  "kernelspec": {
   "display_name": "Python 3",
   "language": "python",
   "name": "python3"
  },
  "language_info": {
   "codemirror_mode": {
    "name": "ipython",
    "version": 3
   },
   "file_extension": ".py",
   "mimetype": "text/x-python",
   "name": "python",
   "nbconvert_exporter": "python",
   "pygments_lexer": "ipython3",
   "version": "3.7.6"
  }
 },
 "nbformat": 4,
 "nbformat_minor": 4
}
