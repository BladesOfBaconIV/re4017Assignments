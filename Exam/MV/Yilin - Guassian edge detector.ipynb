{
 "cells": [
  {
   "cell_type": "code",
   "execution_count": null,
   "metadata": {},
   "outputs": [],
   "source": [
    "import numpy as np\n",
    "import matplotlib.pyplot as plt\n",
    "import scipy\n",
    "from scipy import ndimage\n",
    "\n",
    "# x = np.zeros(shape=(255,255),dtype='uint8')\n",
    "# x[0::2,0::2] = 255\n",
    "# x[1::2,1::2] = 255\n",
    "\n",
    "\n",
    "def rgb2gray(rgb):\n",
    "    return np.dot(rgb[...,:3], [0.299, 0.587, 0.144])\n",
    "\n",
    "img = plt.imread('b.png',0)\n",
    "\n",
    "x = rgb2gray(img)\n",
    "#x=np.transpose(x)\n",
    "\n",
    "#y = ndimage.filters.gaussian_filter(x,1.5,(1,1))\n",
    "y1 = ndimage.filters.gaussian_filter(x,1,(0,1))\n",
    "y2 = ndimage.filters.gaussian_filter(x,1,(1,0))\n",
    "y = np.sqrt(y1**2 + y2**2)\n",
    "plt.figure(1)\n",
    "plt.imshow(x,cmap='gray',vmin=0,vmax=255)\n",
    "plt.figure(2)\n",
    "plt.imshow(y,cmap='gray')\n",
    "plt.colorbar()\n",
    "print(x)\n",
    "plt.show()"
   ]
  }
 ],
 "metadata": {
  "kernelspec": {
   "display_name": "Python 3",
   "language": "python",
   "name": "python3"
  },
  "language_info": {
   "codemirror_mode": {
    "name": "ipython",
    "version": 3
   },
   "file_extension": ".py",
   "mimetype": "text/x-python",
   "name": "python",
   "nbconvert_exporter": "python",
   "pygments_lexer": "ipython3",
   "version": "3.7.6"
  }
 },
 "nbformat": 4,
 "nbformat_minor": 4
}
