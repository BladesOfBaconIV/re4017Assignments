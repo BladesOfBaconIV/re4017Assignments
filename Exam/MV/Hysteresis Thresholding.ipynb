{
 "cells": [
  {
   "cell_type": "code",
   "execution_count": 1,
   "metadata": {},
   "outputs": [],
   "source": [
    "import numpy as np\n",
    "import matplotlib.pylab as plt"
   ]
  },
  {
   "cell_type": "code",
   "execution_count": 2,
   "metadata": {},
   "outputs": [],
   "source": [
    "image = np.array(([0 , 0 , 0 , 0 , 0 , 0 , 0 , 0],\n",
    "                  [0 , 0 , 0 , 0 , 76, 0 , 0 , 0],\n",
    "                  [0 , 0 , 0 , 0 , 24, 0 , 0 , 0],\n",
    "                  [0 , 0 , 0 , 76, 67, 59, 55, 0],\n",
    "                  [0 , 99, 8 , 0 , 0 , 0 , 51, 0],\n",
    "                  [0 , 0 ,39 , 0 , 76, 0 , 82, 0],\n",
    "                  [0 , 0 ,24 , 0 , 0 , 0 , 0 , 0],\n",
    "                  [0 , 0 , 0 , 0 , 0 , 0 , 0 , 0]))"
   ]
  },
  {
   "cell_type": "code",
   "execution_count": 3,
   "metadata": {},
   "outputs": [
    {
     "name": "stdout",
     "output_type": "stream",
     "text": [
      "5\n"
     ]
    },
    {
     "data": {
      "image/png": "[encoded data removed]",
      "text/plain": [
       "<Figure size 432x288 with 1 Axes>"
      ]
     },
     "metadata": {
      "needs_background": "light"
     },
     "output_type": "display_data"
    }
   ],
   "source": [
    "outimage = np.zeros([image.shape[0],image.shape[1]])\n",
    "\n",
    "high = 0.8*99\n",
    "low = high/2.5\n",
    "\n",
    "def neighbor(Image,I,J):\n",
    "    for u in range(I-1, I+2):\n",
    "        for v in range(J-1, J+2):\n",
    "            if Image[u][v] == 1:\n",
    "                return True\n",
    "    return False\n",
    "\n",
    "for i in range(1,image.shape[0]-1):\n",
    "    for j in range(1,image.shape[1]-1):\n",
    "        if image[i][j] >= high:\n",
    "            outimage[i][j] = 1\n",
    "\n",
    "flag = 1\n",
    "Pass = 0\n",
    "while flag == 1:\n",
    "    flag = 0\n",
    "    for i in range(1,image.shape[0]-1):\n",
    "        for j in range(1,image.shape[1]-1):\n",
    "            if (image[i][j] >= low) and (neighbor(outimage,i,j)) and (outimage[i][j] == 0):\n",
    "                outimage[i][j] = 1\n",
    "                flag = 1\n",
    "    Pass += 1\n",
    "\n",
    "print(Pass)\n",
    "#plt.figure()\n",
    "#plt.imshow(image,cmap='gray')\n",
    "plt.figure()\n",
    "plt.imshow(outimage,cmap='gray')\n",
    "plt.show()"
   ]
  }
 ],
 "metadata": {
  "kernelspec": {
   "display_name": "Python 3",
   "language": "python",
   "name": "python3"
  },
  "language_info": {
   "codemirror_mode": {
    "name": "ipython",
    "version": 3
   },
   "file_extension": ".py",
   "mimetype": "text/x-python",
   "name": "python",
   "nbconvert_exporter": "python",
   "pygments_lexer": "ipython3",
   "version": "3.7.6"
  }
 },
 "nbformat": 4,
 "nbformat_minor": 4
}
