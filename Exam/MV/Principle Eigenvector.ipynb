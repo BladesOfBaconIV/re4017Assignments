{
 "cells": [
  {
   "cell_type": "code",
   "execution_count": null,
   "metadata": {},
   "outputs": [],
   "source": [
    "import numpy as np\n",
    "import numpy.linalg as li"
   ]
  },
  {
   "cell_type": "code",
   "execution_count": null,
   "metadata": {},
   "outputs": [],
   "source": [
    "#                  --------------------> x,c,j\n",
    "image = np.array(([0,0,0,0,0,0],     # |\n",
    "                  [0,0,1,1,0,0],     # |\n",
    "                  [0,1,1,1,0,0],     # |\n",
    "                  [1,1,1,0,0,0],     # |\n",
    "                  [1,0,0,0,0,0],     # |\n",
    "                  [0,0,0,0,0,0]))    # \\/ i,r,y"
   ]
  },
  {
   "cell_type": "code",
   "execution_count": null,
   "metadata": {},
   "outputs": [],
   "source": [
    "M00 = 0\n",
    "M10 = 0\n",
    "M01 = 0\n",
    "for i in range(image.shape[0]):\n",
    "    for j in range(image.shape[1]):\n",
    "            M00 += image[i][j]\n",
    "            M10 += j*image[i][j]\n",
    "            M01 += i*image[i][j]\n",
    "\n",
    "Xave = M10/M00\n",
    "Yave = M01/M00\n",
    "\n",
    "u11 = 0\n",
    "u20 = 0\n",
    "u02 = 0\n",
    "\n",
    "for i in range(image.shape[0]):\n",
    "    for j in range(image.shape[1]):\n",
    "            u11 += (j - Xave)*(i - Yave)*image[i][j]\n",
    "            u20 += (j - Xave)**2*image[i][j]\n",
    "            u02 += (i - Yave)**2*image[i][j]\n",
    "\n",
    "SCMM = np.array(([u20, u11],\n",
    "                 [u11, u02]))\n",
    "\n",
    "eigvalue,eigvector = li.eigh(SCMM)\n",
    "# eigvalue,eigvector = li.eig(SCMM)\n",
    "if eigvalue[0] >= eigvalue[1]:\n",
    "    index = 0\n",
    "else:\n",
    "    index = 1\n"
   ]
  },
  {
   "cell_type": "code",
   "execution_count": null,
   "metadata": {},
   "outputs": [],
   "source": [
    "print()\n",
    "print('Solution is: (%f, %f) or (%f, %f).' %(eigvector[0][index],eigvector[1][index],-eigvector[0][index],-eigvector[1][index]))\n",
    "print()"
   ]
  }
 ],
 "metadata": {
  "kernelspec": {
   "display_name": "Python 3",
   "language": "python",
   "name": "python3"
  },
  "language_info": {
   "codemirror_mode": {
    "name": "ipython",
    "version": 3
   },
   "file_extension": ".py",
   "mimetype": "text/x-python",
   "name": "python",
   "nbconvert_exporter": "python",
   "pygments_lexer": "ipython3",
   "version": "3.7.6"
  }
 },
 "nbformat": 4,
 "nbformat_minor": 4
}
