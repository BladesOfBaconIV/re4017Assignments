{
 "cells": [
  {
   "cell_type": "code",
   "execution_count": null,
   "metadata": {},
   "outputs": [],
   "source": [
    "import numpy as np\n",
    "import matplotlib.pyplot as plt"
   ]
  },
  {
   "cell_type": "code",
   "execution_count": null,
   "metadata": {},
   "outputs": [],
   "source": [
    "image = np.array(([0,0,0,0,0,0,0,0,0,0,0],\n",
    "                  [0,1,1,1,1,1,1,1,1,1,0],\n",
    "                  [0,1,0,1,1,0,0,0,1,0,0],\n",
    "                  [0,1,0,1,1,1,1,0,1,1,0],\n",
    "                  [0,1,1,1,1,1,1,1,1,1,0],\n",
    "                  [0,0,0,0,0,0,0,0,0,0,0]))\n",
    "\n",
    "kernel = np.zeros(9)\n",
    "image2 = np.zeros([image.shape[0],image.shape[1]])\n",
    "for i in range(1,image.shape[0]-1):\n",
    "    for j in range(1,image.shape[1]-1):\n",
    "        kernel[0] = image[i][j]\n",
    "        kernel[1] = image[i+1][j]\n",
    "        kernel[2] = image[i-1][j]\n",
    "        kernel[3] = image[i][j+1]\n",
    "        kernel[4] = image[i][j-1]\n",
    "        kernel[5] = image[i+1][j+1]\n",
    "        kernel[6] = image[i-1][j-1]\n",
    "        kernel[7] = image[i+1][j-1]\n",
    "        kernel[8] = image[i-1][j+1]\n",
    "        Middle = np.sort(kernel)[4]\n",
    "        image2[i][j] = Middle\n",
    "plt.figure()\n",
    "plt.imshow(image2,cmap='gray')\n",
    "plt.figure()\n",
    "plt.imshow(image,cmap='gray')\n",
    "plt.show()"
   ]
  }
 ],
 "metadata": {
  "kernelspec": {
   "display_name": "Python 3",
   "language": "python",
   "name": "python3"
  },
  "language_info": {
   "codemirror_mode": {
    "name": "ipython",
    "version": 3
   },
   "file_extension": ".py",
   "mimetype": "text/x-python",
   "name": "python",
   "nbconvert_exporter": "python",
   "pygments_lexer": "ipython3",
   "version": "3.7.6"
  }
 },
 "nbformat": 4,
 "nbformat_minor": 4
}
