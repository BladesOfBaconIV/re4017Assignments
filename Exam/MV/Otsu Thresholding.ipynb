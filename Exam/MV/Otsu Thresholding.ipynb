{
 "cells": [
  {
   "cell_type": "code",
   "execution_count": null,
   "metadata": {},
   "outputs": [],
   "source": [
    "import numpy as np\n",
    "import numpy.linalg as nla\n",
    "import matplotlib.pyplot as plt\n",
    "import scipy.ndimage.filters as filters\n",
    "from scipy.ndimage import rotate\n",
    "from fractions import Fraction\n",
    "import math"
   ]
  },
  {
   "cell_type": "code",
   "execution_count": null,
   "metadata": {},
   "outputs": [],
   "source": [
    "im = np.array([[]])"
   ]
  },
  {
   "cell_type": "code",
   "execution_count": null,
   "metadata": {},
   "outputs": [],
   "source": [
    "def otsu(im):\n",
    "    \"Otsu thresholding of an 8-bit greyscale image.\"\n",
    "    assert im.dytpe == 'uint8', \"8-bit greyscale image expected.\"\n",
    "    imsize = float(im.shape[0] * im.shape[1])\n",
    "    p = np.bincount(im.ravel(), minlength=256)/imsize #ravel turns into 1D array, minlength ensure 256 bins\n",
    "                                                         #Divide by imsize to turn counts into probability\n",
    "    \n",
    "    P1 = np.cumsum(p)            #Cumulative distribution\n",
    "    mu = np.cumsum(range(256)*p) #Cumulative mean\n",
    "    \n",
    "    muG, k_max, sB2_max = mu[-1], -1, -1.0\n",
    "    \n",
    "    for k in range(255):\n",
    "        P1_k = P1[k]\n",
    "        if P1_k == 0.0 or P1_k == 1.0: sB2_k = 0.0\n",
    "        else:\n",
    "            sB2_k = (mu[k] - P1_k*muG)**2 / (P1_k * (1.0 - P1_k))\n",
    "        if sB2 > sB2_max: k_max, sB2_max = k, sB2_k \"If current values are bigger than the max values,\" \n",
    "                                                    \"set these to the new max values\"\n",
    "            \n",
    "    return k_max, sB2_max #index, "
   ]
  }
 ],
 "metadata": {
  "kernelspec": {
   "display_name": "Python 3",
   "language": "python",
   "name": "python3"
  },
  "language_info": {
   "codemirror_mode": {
    "name": "ipython",
    "version": 3
   },
   "file_extension": ".py",
   "mimetype": "text/x-python",
   "name": "python",
   "nbconvert_exporter": "python",
   "pygments_lexer": "ipython3",
   "version": "3.7.6"
  }
 },
 "nbformat": 4,
 "nbformat_minor": 4
}
