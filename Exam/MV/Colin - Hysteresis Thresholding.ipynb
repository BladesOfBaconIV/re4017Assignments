{
 "cells": [
  {
   "cell_type": "code",
   "execution_count": 1,
   "metadata": {},
   "outputs": [],
   "source": [
    "import numpy as np\n",
    "import numpy.linalg as nla\n",
    "import matplotlib.pyplot as plt\n",
    "import scipy.ndimage.filters as filters\n",
    "from scipy.ndimage import rotate\n",
    "from fractions import Fraction\n",
    "import math"
   ]
  },
  {
   "cell_type": "code",
   "execution_count": 5,
   "metadata": {},
   "outputs": [],
   "source": [
    "im = np.array(([0 , 0 , 0 , 0 , 0 , 0 , 0 , 0],\n",
    "                  [0 , 0 , 0 , 0 , 76, 0 , 0 , 0],\n",
    "                  [0 , 0 , 0 , 0 , 24, 0 , 0 , 0],\n",
    "                  [0 , 0 , 0 , 76, 67, 59, 55, 0],\n",
    "                  [0 , 99, 8 , 0 , 0 , 0 , 51, 0],\n",
    "                  [0 , 0 ,39 , 0 , 76, 0 , 82, 0],\n",
    "                  [0 , 0 ,24 , 0 , 0 , 0 , 0 , 0],\n",
    "                  [0 , 0 , 0 , 0 , 0 , 0 , 0 , 0]))"
   ]
  },
  {
   "cell_type": "code",
   "execution_count": 3,
   "metadata": {},
   "outputs": [],
   "source": [
    "def hysthresh(im, hi, lo=-1):\n",
    "    \"Hysteresis thresholding of a flating-point image. lo threshold is either specified as arguement 3 of is hi/2.5\"\n",
    "    R,C = im.shape\n",
    "    hi = im.max() * hi\n",
    "    if lo ==-1: lo =hi/2.5\n",
    "    else: lo = im.max()*lo\n",
    "    \n",
    "    print(\"High threshold {:5.3f}, low{:5.3f}\".format(hi,lo))\n",
    "    \n",
    "    ##pad the image\n",
    "    imbig = np.zeros((R+2,C+2),dtype=im.dtype)\n",
    "    imbig[1:R+1,1:C+1] = im\n",
    "    \n",
    "    #initial output is all elements>= high threshold\n",
    "    out = (imbig >hi) * 1\n",
    "    \n",
    "    #now do edge linking pass\n",
    "    changed = True\n",
    "    passes = 0\n",
    "    while changed:\n",
    "        changed = False\n",
    "        passes += 1\n",
    "        for r in range(1,R+1):\n",
    "            for c in range(1,C+1):\n",
    "                #Set output if input exceeds low thresh, output not already set, and there is at least one 8-neighbour already set\n",
    "                if imbig[r,c] >=lo and out[r,c] == 0 and\\\n",
    "                np.sum(out[r-1:r+2,c-1:c+2])>0: #nb 8-nbhd check.\n",
    "                    out[r,c] = 1\n",
    "                    changed = True\n",
    "        print(\"Pass\", passes, \"    changed\", changed)\n",
    "    #return central region (i.e. remove zero padding)\n",
    "    return out[1:R+1, 1:C+1]"
   ]
  },
  {
   "cell_type": "code",
   "execution_count": 7,
   "metadata": {},
   "outputs": [
    {
     "name": "stdout",
     "output_type": "stream",
     "text": [
      "High threshold 79.200, low31.680\n",
      "Pass 1     changed True\n",
      "Pass 2     changed True\n",
      "Pass 3     changed True\n",
      "Pass 4     changed True\n",
      "Pass 5     changed False\n",
      "[[0 0 0 0 0 0 0 0]\n",
      " [0 0 0 0 0 0 0 0]\n",
      " [0 0 0 0 0 0 0 0]\n",
      " [0 0 0 1 1 1 1 0]\n",
      " [0 1 0 0 0 0 1 0]\n",
      " [0 0 1 0 0 0 1 0]\n",
      " [0 0 0 0 0 0 0 0]\n",
      " [0 0 0 0 0 0 0 0]]\n"
     ]
    }
   ],
   "source": [
    "outim = hysthresh(im,0.8)\n",
    "print(outim)\n",
    "#print(hysthresh(im,0.8))"
   ]
  },
  {
   "cell_type": "code",
   "execution_count": 8,
   "metadata": {},
   "outputs": [
    {
     "data": {
      "image/png": "[encoded data removed]",
      "text/plain": [
       "<Figure size 432x288 with 1 Axes>"
      ]
     },
     "metadata": {
      "needs_background": "light"
     },
     "output_type": "display_data"
    }
   ],
   "source": [
    "plt.figure()\n",
    "plt.imshow(outim,cmap='gray')\n",
    "plt.show()"
   ]
  }
 ],
 "metadata": {
  "kernelspec": {
   "display_name": "Python 3",
   "language": "python",
   "name": "python3"
  },
  "language_info": {
   "codemirror_mode": {
    "name": "ipython",
    "version": 3
   },
   "file_extension": ".py",
   "mimetype": "text/x-python",
   "name": "python",
   "nbconvert_exporter": "python",
   "pygments_lexer": "ipython3",
   "version": "3.7.6"
  }
 },
 "nbformat": 4,
 "nbformat_minor": 4
}
