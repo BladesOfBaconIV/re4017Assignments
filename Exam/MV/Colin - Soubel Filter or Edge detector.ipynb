{
 "cells": [
  {
   "cell_type": "code",
   "execution_count": null,
   "metadata": {},
   "outputs": [],
   "source": [
    "import numpy as np\n",
    "import numpy.linalg as nla\n",
    "import matplotlib.pyplot as plt\n",
    "import scipy.ndimage.filters as filters\n",
    "from scipy.ndimage import rotate\n",
    "from fractions import Fraction\n",
    "import math"
   ]
  },
  {
   "cell_type": "code",
   "execution_count": null,
   "metadata": {},
   "outputs": [],
   "source": [
    "Sx = np.array([[1,0,-1],[2,0,-2],[1,0,-1]])\n",
    "Sy = np.array([[1,2,1],[0,0,0],[-1,-2,-1]])\n",
    "\n",
    "Oriented = np.cos(np.deg2rad(60)) * Sx + np.sin(np.deg2rad(60)) * Sy\n",
    "\n",
    "im = np.zeros((100,100))\n",
    "im[50:,:]= 1\n",
    "\n",
    "#nb  rotate angles are positive rows up i.e. opposite convention to the usual image positive rows down convention,\n",
    "#so a -30 degree rotation is +30 to rotate\n",
    "\n",
    "rotated_im = rotate(im,30,reshape=False)\n",
    "\n",
    "plt.figure()\n",
    "plt.subplot(1,2,1)\n",
    "plt.imshow(rotated_im)\n",
    "plt.subplot(1,2,2)\n",
    "plt.imshow(filters.convolve(rotated_im, Oriented).cmap='gray')"
   ]
  }
 ],
 "metadata": {
  "kernelspec": {
   "display_name": "Python 3",
   "language": "python",
   "name": "python3"
  },
  "language_info": {
   "codemirror_mode": {
    "name": "ipython",
    "version": 3
   },
   "file_extension": ".py",
   "mimetype": "text/x-python",
   "name": "python",
   "nbconvert_exporter": "python",
   "pygments_lexer": "ipython3",
   "version": "3.7.6"
  }
 },
 "nbformat": 4,
 "nbformat_minor": 4
}
