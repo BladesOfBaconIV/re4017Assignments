{
 "cells": [
  {
   "cell_type": "code",
   "execution_count": 1,
   "metadata": {},
   "outputs": [],
   "source": [
    "import numpy as np"
   ]
  },
  {
   "cell_type": "code",
   "execution_count": 2,
   "metadata": {},
   "outputs": [],
   "source": [
    "im = np.array([[9,9,9,9,9,9],\n",
    "               [9,2,2,2,2,9],\n",
    "               [9,2,1,2,2,9],\n",
    "               [9,2,2,1,2,9],\n",
    "               [9,2,2,2,2,9],\n",
    "               [9,9,9,9,9,9]])"
   ]
  },
  {
   "cell_type": "code",
   "execution_count": 3,
   "metadata": {},
   "outputs": [
    {
     "name": "stdout",
     "output_type": "stream",
     "text": [
      "Histogram of equalised image.\n",
      "[ 2  0  0  0 14  0  0  0  0 20]\n"
     ]
    }
   ],
   "source": [
    "def equalise(im):\n",
    "    \"Equalise an image. Either specify levels or use levels = im.max() + 1\"\n",
    "    \n",
    "    levels = im.max() + 1\n",
    "    R,C = im.shape\n",
    "    K = levels\n",
    "    h = np.bincount(im.ravel(),minlength=K)\n",
    "    H = np.cumsum(h)\n",
    "    \n",
    "    out = np.floor((K-1)/(R*C)*H[im.ravel()]).astype('int')\n",
    "    return out.reshape((R,C))\n",
    "\n",
    "print(\"Histogram of equalised image.\")\n",
    "print(np.bincount(equalise(im).ravel(),minlength=10))"
   ]
  }
 ],
 "metadata": {
  "kernelspec": {
   "display_name": "Python 3",
   "language": "python",
   "name": "python3"
  },
  "language_info": {
   "codemirror_mode": {
    "name": "ipython",
    "version": 3
   },
   "file_extension": ".py",
   "mimetype": "text/x-python",
   "name": "python",
   "nbconvert_exporter": "python",
   "pygments_lexer": "ipython3",
   "version": "3.7.6"
  }
 },
 "nbformat": 4,
 "nbformat_minor": 4
}
